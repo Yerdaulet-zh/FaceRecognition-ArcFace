{
 "cells": [
  {
   "cell_type": "code",
   "execution_count": 41,
   "id": "9ad3e4c6-3d80-49b8-b52c-f898a168dded",
   "metadata": {},
   "outputs": [
    {
     "data": {
      "text/plain": [
       "tensor([1.9933])"
      ]
     },
     "execution_count": 41,
     "metadata": {},
     "output_type": "execute_result"
    }
   ],
   "source": [
    "import torch\n",
    "import torch.nn as nn\n",
    "import torch.nn.functional as F\n",
    "\n",
    "class ArcFaceLoss(nn.Module):\n",
    "    def __init__(self, dimention, num_classes, s=64.0, m=0.50):\n",
    "        super(ArcFaceLoss, self).__init__()\n",
    "        self.s = s  # Feature scale (often set to 64.0)\n",
    "        self.m = m  # Angular margin (often set to 0.50)\n",
    "        \n",
    "        # Initialize learnable weight parameters\n",
    "        self.weight = nn.Parameter(torch.FloatTensor(num_classes, dimention))\n",
    "        nn.init.xavier_uniform_(self.weight)  # Xavier initialization\n",
    "\n",
    "    def forward(self, input, labels):\n",
    "        # Normalize input features and weight vectors to unit vectors\n",
    "        cosine = torch.matmul(F.normalize(input), F.normalize(self.weight).T)\n",
    "        \n",
    "        # Clip cosine values for numerical stability\n",
    "        cosine = cosine.clamp(-1.0, 1.0)\n",
    "        \n",
    "        # Add angular margin directly to the cosine value (no need to compute angle)\n",
    "        target_cosine = cosine.gather(1, labels.view(-1, 1))  # Cosine value for the correct class\n",
    "        cosine_with_margin = target_cosine + self.m  # Add margin\n",
    "        \n",
    "        # Clip the margin-modified cosine for numerical stability\n",
    "        cosine_with_margin = cosine_with_margin.clamp(-1.0, 1.0)\n",
    "        \n",
    "        # Create a one-hot encoding for the target class labels\n",
    "        one_hot = torch.zeros_like(cosine)\n",
    "        one_hot.scatter_(1, labels.view(-1, 1), 1.0)\n",
    "        \n",
    "        # Combine margin cosine for target class, and regular cosine for others\n",
    "        logits = (one_hot * cosine_with_margin) + ((1.0 - one_hot) * cosine)\n",
    "        \n",
    "        # Scale logits by the factor 's'\n",
    "        logits *= self.s\n",
    "        \n",
    "        # Compute cross-entropy loss\n",
    "        loss = F.cross_entropy(logits, labels)\n",
    "        return loss\n"
   ]
  },
  {
   "cell_type": "code",
   "execution_count": null,
   "id": "31bed7a9-3110-4bac-8b4f-207e8cb24d35",
   "metadata": {},
   "outputs": [],
   "source": []
  },
  {
   "cell_type": "code",
   "execution_count": null,
   "id": "97d95368-8b64-4ad3-8f82-2366181d40b6",
   "metadata": {},
   "outputs": [],
   "source": []
  },
  {
   "cell_type": "code",
   "execution_count": null,
   "id": "25490e49-0c1e-4e5c-b98e-cfc91f648b8a",
   "metadata": {},
   "outputs": [],
   "source": []
  }
 ],
 "metadata": {
  "kernelspec": {
   "display_name": "Python [conda env:base] *",
   "language": "python",
   "name": "conda-base-py"
  },
  "language_info": {
   "codemirror_mode": {
    "name": "ipython",
    "version": 3
   },
   "file_extension": ".py",
   "mimetype": "text/x-python",
   "name": "python",
   "nbconvert_exporter": "python",
   "pygments_lexer": "ipython3",
   "version": "3.11.10"
  }
 },
 "nbformat": 4,
 "nbformat_minor": 5
}
