{
 "cells": [
  {
   "cell_type": "code",
   "execution_count": 1,
   "id": "3ac4c9b7-d806-4e48-aa1e-4b45716414e0",
   "metadata": {},
   "outputs": [],
   "source": [
    "import pandas as pd\n",
    "\n",
    "from scipy.io import loadmat"
   ]
  },
  {
   "cell_type": "code",
   "execution_count": 2,
   "id": "175f300d-4bca-4913-ae49-399953184b55",
   "metadata": {},
   "outputs": [
    {
     "name": "stdout",
     "output_type": "stream",
     "text": [
      "dict_keys(['__header__', '__version__', '__globals__', 'wiki'])\n"
     ]
    }
   ],
   "source": [
    "wiki_mat_path = 'wiki_crop/wiki.mat'\n",
    "wiki_data = loadmat(wiki_mat_path)\n",
    "\n",
    "print(wiki_data.keys())  "
   ]
  },
  {
   "cell_type": "code",
   "execution_count": 5,
   "id": "6dbdf2ee-eec9-4815-ac91-65830fdd06ca",
   "metadata": {
    "scrolled": true
   },
   "outputs": [],
   "source": [
    "_, photo_taken, paths, gender, name, face_location, face_score, second_face_score = wiki_data['wiki'][0][0]\n",
    "\n",
    "photo_taken = photo_taken.tolist()[0]\n",
    "paths = [x.item() for x in paths[0]]\n",
    "gender = gender.tolist()[0]\n",
    "\n",
    "name = [label.item() if len(label) > 0 else [] for label in name[0]]\n",
    "\n",
    "X1, X2, Y1, Y2 = [], [], [], []\n",
    "for location in face_location[0]:\n",
    "    x1, x2, y1, y2 = location[0]\n",
    "    X1.append(x1)\n",
    "    X2.append(x2)\n",
    "    Y1.append(y1)\n",
    "    Y2.append(y2)\n",
    "\n",
    "face_score = [x.item() for x in face_score[0]]\n",
    "second_face_score = [x.item() for x in second_face_score[0]]"
   ]
  },
  {
   "cell_type": "code",
   "execution_count": 7,
   "id": "253e6b05-af73-4383-8e2f-f65c4eef2f22",
   "metadata": {
    "scrolled": true
   },
   "outputs": [],
   "source": [
    "assert len(photo_taken) == len(paths) == len(gender) == len(name) == len(X1) == len(face_score) == len(second_face_score), \"Metadata keys are not in equal lenght\""
   ]
  },
  {
   "cell_type": "code",
   "execution_count": 9,
   "id": "918d0d52-335b-4ee7-9138-69436ad452f9",
   "metadata": {},
   "outputs": [],
   "source": [
    "wiki_df = pd.DataFrame({\n",
    "    \"photo_taken\": photo_taken,\n",
    "    \"paths\": paths,\n",
    "    \"gender\": gender,\n",
    "    \"name\": name,\n",
    "    \"x1\": X1,\n",
    "    \"x2\": X2,\n",
    "    \"y1\": Y1,\n",
    "    \"y2\": Y2,\n",
    "    \"face_score\": face_score,\n",
    "    \"second_face_score\": second_face_score\n",
    "})\n",
    "\n",
    "wiki_df.to_csv('wiki_crop/wiki.csv', index=False)"
   ]
  },
  {
   "cell_type": "code",
   "execution_count": 10,
   "id": "f2cbc896-05d8-4cb4-8aac-53cd58de4362",
   "metadata": {},
   "outputs": [
    {
     "data": {
      "text/plain": [
       "(62328, 10)"
      ]
     },
     "execution_count": 10,
     "metadata": {},
     "output_type": "execute_result"
    }
   ],
   "source": [
    "wiki_df.shape"
   ]
  },
  {
   "cell_type": "markdown",
   "id": "86da2334-5fc1-4dc5-bb7e-4eb374cdfa30",
   "metadata": {},
   "source": [
    "# IMDB"
   ]
  },
  {
   "cell_type": "code",
   "execution_count": 14,
   "id": "7249600d-f4d8-484c-a3aa-058adf922b48",
   "metadata": {},
   "outputs": [
    {
     "name": "stdout",
     "output_type": "stream",
     "text": [
      "dict_keys(['__header__', '__version__', '__globals__', 'imdb'])\n"
     ]
    }
   ],
   "source": [
    "imdb_crop_path = 'imdb_crop/imdb.mat'\n",
    "imdb_data = loadmat(imdb_crop_path)\n",
    "\n",
    "print(imdb_data.keys()) "
   ]
  },
  {
   "cell_type": "code",
   "execution_count": null,
   "id": "471dbed8-2b9d-4334-9d05-c903c75b22ed",
   "metadata": {},
   "outputs": [],
   "source": [
    "_, photo_taken, paths, gender, name, face_location, face_score, second_face_score, celeb_names, celeb_id = imdb_data['imdb'][0][0]\n",
    "\n",
    "photo_taken = photo_taken.tolist()[0]\n",
    "paths = [x.item() for x in paths[0]]\n",
    "gender = gender.tolist()[0]\n",
    "\n",
    "name = [label.item() if len(label) > 0 else [] for label in name[0]]\n",
    "\n",
    "X1, X2, Y1, Y2 = [], [], [], []\n",
    "for location in face_location[0]:\n",
    "    x1, x2, y1, y2 = location[0]\n",
    "    X1.append(x1)\n",
    "    X2.append(x2)\n",
    "    Y1.append(y1)\n",
    "    Y2.append(y2)\n",
    "\n",
    "face_score = [x.item() for x in face_score[0]]\n",
    "second_face_score = [x.item() for x in second_face_score[0]]\n",
    "celeb_id = [x.item() for x in celeb_id[0]]\n",
    "celeb_names.shape"
   ]
  },
  {
   "cell_type": "code",
   "execution_count": null,
   "id": "6ac0ac2f-7484-4c7e-bd6a-20dbf1ff08e5",
   "metadata": {},
   "outputs": [],
   "source": [
    "assert len(photo_taken) == len(paths) == len(gender) == len(name) == len(X1) == len(face_score) == len(second_face_score), \"Metadata keys are not in equal lenght\""
   ]
  },
  {
   "cell_type": "code",
   "execution_count": null,
   "id": "02ca3989-b1ed-4c63-bd33-6d6503fa6b9c",
   "metadata": {
    "scrolled": true
   },
   "outputs": [],
   "source": [
    "imdb_df = pd.DataFrame({\n",
    "    \"photo_taken\": photo_taken,\n",
    "    \"paths\": paths,\n",
    "    \"gender\": gender,\n",
    "    \"name\": name,\n",
    "    \"x1\": X1,\n",
    "    \"x2\": X2,\n",
    "    \"y1\": Y1,\n",
    "    \"y2\": Y2,\n",
    "    \"face_score\": face_score,\n",
    "    \"second_face_score\": second_face_score,\n",
    "    \"celeb_id\": celeb_id\n",
    "})\n",
    "\n",
    "imdb_df.to_csv('imdb_crop/imdb.csv', index=False)"
   ]
  },
  {
   "cell_type": "code",
   "execution_count": null,
   "id": "78d1fdee-5390-4dcb-a2f4-4a8abc406148",
   "metadata": {
    "scrolled": true
   },
   "outputs": [],
   "source": [
    "imdb_df.shape"
   ]
  },
  {
   "cell_type": "code",
   "execution_count": null,
   "id": "fc68eda2-64ae-42f0-9fda-cba3843a9860",
   "metadata": {},
   "outputs": [],
   "source": []
  },
  {
   "cell_type": "code",
   "execution_count": null,
   "id": "9fd158e4-afd3-4771-94d2-9d4cd4d6b296",
   "metadata": {},
   "outputs": [],
   "source": []
  },
  {
   "cell_type": "code",
   "execution_count": null,
   "id": "debc946c-5c91-4e27-8f93-cf79d6c9960a",
   "metadata": {},
   "outputs": [],
   "source": []
  },
  {
   "cell_type": "code",
   "execution_count": null,
   "id": "af3a00fa-0d75-487b-8081-7c26c7b4c8f4",
   "metadata": {},
   "outputs": [],
   "source": []
  }
 ],
 "metadata": {
  "kernelspec": {
   "display_name": "Python [conda env:base] *",
   "language": "python",
   "name": "conda-base-py"
  },
  "language_info": {
   "codemirror_mode": {
    "name": "ipython",
    "version": 3
   },
   "file_extension": ".py",
   "mimetype": "text/x-python",
   "name": "python",
   "nbconvert_exporter": "python",
   "pygments_lexer": "ipython3",
   "version": "3.11.10"
  }
 },
 "nbformat": 4,
 "nbformat_minor": 5
}
